{
 "cells": [
  {
   "cell_type": "markdown",
   "metadata": {},
   "source": [
    "### Input:\n",
    "- X: the value to reduce\n",
    "- P: the value to divide by, i.e. to reduce with respect to \n",
    "\n",
    "- a: decimal value\n",
    "- n: Power/Exponent/Number of digits\n",
    "- r: Base\n",
    "- R = a x r^n: Power of the base that allows for replacing divisions by shifts \n",
    "\n",
    "\n",
    "\n",
    "- Rm: the modular multiplicative inverse of R with respect to P\n",
    "- Pm: the modular multiplicative inverse of P with respect to R\n",
    "- Pa: the modular additive inverse of Pm with respect to R\n",
    "\n",
    "\n",
    "- Q: X x Pa mod R\n",
    "\n",
    "- V: (X + Q x P) / R <br> <br>\n",
    "    if V < P:\n",
    "        Y = V\n",
    "    else:\n",
    "        Y = V - P\n",
    "\n",
    "### Output: \n",
    "- Yd: Montgomery's domain = X x Rm mod P\n",
    "- Yr: Rest of Division of X by P\n",
    "\n",
    "### Idea:\n",
    "**Step 1:** Internal (Intermediary) Reductions -> Output: Montogmery domain (Yd = X x Rm mod P) <br>\n",
    "**Step 2:** External (Final) Reduction -> Output: Rest (Yr= X mod P)"
   ]
  },
  {
   "cell_type": "code",
   "execution_count": 1,
   "metadata": {},
   "outputs": [],
   "source": [
    "# precalculation function: modular multiplicative inverse \n",
    "def modMultInverse(i, m):\n",
    "     \n",
    "    for x in range(1, m):\n",
    "        if (((i%m) * (x%m)) % m == 1):\n",
    "            return x\n",
    "    return -1"
   ]
  },
  {
   "cell_type": "code",
   "execution_count": 2,
   "metadata": {},
   "outputs": [],
   "source": [
    "# precalculation function: modular additive inverse \n",
    "def modAddInverse(i, m):\n",
    "     \n",
    "    for x in range(1, m):\n",
    "        if (((i%m) + (x%m)) % m == 0):\n",
    "            return x\n",
    "    return -1"
   ]
  },
  {
   "cell_type": "code",
   "execution_count": 3,
   "metadata": {},
   "outputs": [],
   "source": [
    "def MontModRed(X, P, r, n):\n",
    "    # precalculations\n",
    "    global R \n",
    "    R = pow(r, n)\n",
    "\n",
    "    Rm = modMultInverse(R, P)\n",
    "    Pm = modMultInverse(P, R)\n",
    "    Pa = modAddInverse(Pm, R)\n",
    "    \n",
    "\n",
    "    \n",
    "    # Montgomery values\n",
    "    Q =  (X * Pa ) % R\n",
    "    V = (X + Q*P) / R\n",
    "    \n",
    "    if V < P:\n",
    "        Yd = V\n",
    "    else:\n",
    "        Yd = V - P\n",
    "\n",
    "\n",
    "    \n",
    "    return int(Yd)"
   ]
  },
  {
   "cell_type": "code",
   "execution_count": 4,
   "metadata": {},
   "outputs": [],
   "source": [
    "def ModRedwithMont(Yd, P, r, n):\n",
    "    \n",
    "    W = Yd * (pow(R, 2) % P)\n",
    "    \n",
    "    Yr = MontModRed(W, P, r, n)\n",
    "    \n",
    "    return Yr"
   ]
  },
  {
   "cell_type": "code",
   "execution_count": 5,
   "metadata": {},
   "outputs": [
    {
     "name": "stdout",
     "output_type": "stream",
     "text": [
      "116\n",
      "82\n"
     ]
    }
   ],
   "source": [
    "X = 34567\n",
    "P = 121 \n",
    "r = 10\n",
    "n = 3\n",
    "\n",
    "Yd = MontModRed(X, P, r, n) #output 116\n",
    "Yr = ModRedwithMont(Yd, P, r, n) #output 82. verify with print(34567%121)\n",
    "\n",
    "print(Yd)\n",
    "print(Yr)"
   ]
  },
  {
   "cell_type": "code",
   "execution_count": 6,
   "metadata": {},
   "outputs": [
    {
     "name": "stdout",
     "output_type": "stream",
     "text": [
      "82\n"
     ]
    }
   ],
   "source": [
    "print(34567%121)"
   ]
  },
  {
   "cell_type": "code",
   "execution_count": 7,
   "metadata": {},
   "outputs": [
    {
     "name": "stdout",
     "output_type": "stream",
     "text": [
      "3\n",
      "3\n"
     ]
    }
   ],
   "source": [
    "X = 201\n",
    "P = 11\n",
    "r = 10\n",
    "n = 2\n",
    "\n",
    "Yd = MontModRed(X, P, r, n) #output 3 \n",
    "Yr = ModRedwithMont(Yd, P, r, n) #output 3. verify with print(201%11)\n",
    "\n",
    "print(Yd)\n",
    "print(Yr)"
   ]
  },
  {
   "cell_type": "code",
   "execution_count": 8,
   "metadata": {},
   "outputs": [
    {
     "name": "stdout",
     "output_type": "stream",
     "text": [
      "3\n"
     ]
    }
   ],
   "source": [
    "print(201%11)"
   ]
  }
 ],
 "metadata": {
  "kernelspec": {
   "display_name": "Python 3.7 (tensorflow1)",
   "language": "python",
   "name": "tensorflow1"
  },
  "language_info": {
   "codemirror_mode": {
    "name": "ipython",
    "version": 3
   },
   "file_extension": ".py",
   "mimetype": "text/x-python",
   "name": "python",
   "nbconvert_exporter": "python",
   "pygments_lexer": "ipython3",
   "version": "3.7.7"
  }
 },
 "nbformat": 4,
 "nbformat_minor": 4
}
