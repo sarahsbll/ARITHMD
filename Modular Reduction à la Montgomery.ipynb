{
 "cells": [
  {
   "cell_type": "markdown",
   "metadata": {},
   "source": [
    "### Input:\n",
    "- X: the value to reduce\n",
    "- P: the value to divide by, i.e. to reduce with respect to \n",
    "\n",
    "- n: Power/Exponent/Number of digits\n",
    "- r: Base\n",
    "- R = r^n: Power of the base that allows for replacing divisions by shifts \n",
    "\n",
    "\n",
    "\n",
    "- Rmi: the modular multiplicative inverse of R with respect to P\n",
    "- Pmi: the modular multiplicative inverse of P with respect to R\n",
    "- Pai: the modular additive inverse of Pmi with respect to R\n",
    "\n",
    "\n",
    "- Q: X x Pai mod R\n",
    "\n",
    "- V: (X + Q x P) / R <br> <br>\n",
    "    if V < P:\n",
    "        Y = V\n",
    "    else:\n",
    "        Y = V - P\n",
    "\n",
    "### Output: \n",
    "- Ym: Montgomery's domain = X x Rmi mod P\n",
    "- Yr: Rest of Division of X by P\n",
    "\n",
    "### Idea:\n",
    "**Step 1:** Internal (Intermediary) Reductions -> Output: Montogmery domain (Ym = X x Rmi mod P) <br>\n",
    "**Step 2:** External (Final) Reduction -> Output: Rest (Yr= X mod P)"
   ]
  },
  {
   "cell_type": "code",
   "execution_count": 1,
   "metadata": {},
   "outputs": [],
   "source": [
    "# precalculation function: modular multiplicative inverse \n",
    "def modMultInverse(i, m):\n",
    "     \n",
    "    for x in range(1, m):\n",
    "        if (((i%m) * (x%m)) % m == 1):\n",
    "            return x\n",
    "    return -1"
   ]
  },
  {
   "cell_type": "code",
   "execution_count": 2,
   "metadata": {},
   "outputs": [],
   "source": [
    "# precalculation function: modular additive inverse \n",
    "def modAddInverse(i, m):\n",
    "     \n",
    "    for x in range(1, m):\n",
    "        if (((i%m) + (x%m)) % m == 0):\n",
    "            return x\n",
    "    return -1"
   ]
  },
  {
   "cell_type": "code",
   "execution_count": 3,
   "metadata": {},
   "outputs": [],
   "source": [
    "# verification function: prime number\n",
    "def isPrime(p):\n",
    "    i = 2\n",
    "    while i < p and p % i != 0 :\n",
    "        i = i + 1\n",
    "    \n",
    "    if i == p :\n",
    "        return True\n",
    "    \n",
    "    else :\n",
    "        return False"
   ]
  },
  {
   "cell_type": "code",
   "execution_count": 4,
   "metadata": {},
   "outputs": [],
   "source": [
    "def MontModRed(X, P, r, n):\n",
    "    \n",
    "    global R\n",
    "    R = pow(r, n)\n",
    "        \n",
    "    # verification\n",
    "    if not isPrime(P):\n",
    "        return (\"P is not prime\")\n",
    "    \n",
    "    \n",
    "    # constraints\n",
    "    \n",
    "    # gcd(P, R) == 1\n",
    "    # P < R\n",
    "    # X => 0 && X < P*R\n",
    "    \n",
    "    \n",
    "    else:\n",
    "        # precalculations\n",
    "        Rmi = modMultInverse(R, P)\n",
    "        Pmi = modMultInverse(P, R)\n",
    "        Pai = modAddInverse(Pmi, R)\n",
    "\n",
    "\n",
    "\n",
    "        # Montgomery values\n",
    "        Q =  (X * Pai ) % R\n",
    "        V = (X + Q*P) / R\n",
    "        \n",
    "        \n",
    "        if V < P:\n",
    "            Ym = V\n",
    "        else:\n",
    "            Ym = V - P\n",
    "\n",
    "\n",
    "    \n",
    "        return int(Ym)"
   ]
  },
  {
   "cell_type": "code",
   "execution_count": 5,
   "metadata": {},
   "outputs": [],
   "source": [
    "def ModRedwithMont(X, P, r, n):\n",
    "    if isPrime(P):\n",
    "        Ym = MontModRed(X, P, r, n)\n",
    "\n",
    "        Temp = Ym * (pow(R, 2) % P)\n",
    "\n",
    "        Yr = MontModRed(Temp, P, r, n)\n",
    "        \n",
    "        return Yr"
   ]
  },
  {
   "cell_type": "code",
   "execution_count": 6,
   "metadata": {},
   "outputs": [
    {
     "name": "stdout",
     "output_type": "stream",
     "text": [
      "Example 1: Modulo is not prime\n",
      "Expected output : None\n"
     ]
    }
   ],
   "source": [
    "print(\"Example 1: Modulo is not prime\")\n",
    "print(\"Expected output : None\")"
   ]
  },
  {
   "cell_type": "code",
   "execution_count": 7,
   "metadata": {},
   "outputs": [
    {
     "name": "stdout",
     "output_type": "stream",
     "text": [
      "None\n"
     ]
    }
   ],
   "source": [
    "X = 34567\n",
    "P = 121 \n",
    "r = 10\n",
    "n = 3\n",
    "\n",
    "Yr = ModRedwithMont(X, P, r, n) #output 82. verify with print(34567%121)\n",
    "\n",
    "print(Yr)"
   ]
  },
  {
   "cell_type": "code",
   "execution_count": 8,
   "metadata": {},
   "outputs": [
    {
     "name": "stdout",
     "output_type": "stream",
     "text": [
      "Example 2: Modulo is prime\n",
      "Expected output : 3\n"
     ]
    }
   ],
   "source": [
    "print(\"Example 2: Modulo is prime\") \n",
    "print(\"Expected output :\",201%11)"
   ]
  },
  {
   "cell_type": "code",
   "execution_count": 9,
   "metadata": {},
   "outputs": [
    {
     "name": "stdout",
     "output_type": "stream",
     "text": [
      "3\n"
     ]
    }
   ],
   "source": [
    "X = 201\n",
    "P = 11\n",
    "r = 10\n",
    "n = 2\n",
    "\n",
    "Yr = ModRedwithMont(X, P, r, n) #output 3. verify with print(201%11)\n",
    "\n",
    "print(Yr)"
   ]
  },
  {
   "cell_type": "code",
   "execution_count": 10,
   "metadata": {},
   "outputs": [
    {
     "name": "stdout",
     "output_type": "stream",
     "text": [
      "Example 3: Same values used with Pseudo-Mersenne\n",
      "Expected output : 74\n"
     ]
    }
   ],
   "source": [
    "print(\"Example 3: Same values used with Pseudo-Mersenne\")\n",
    "print(\"Expected output :\", 201%127)"
   ]
  },
  {
   "cell_type": "code",
   "execution_count": 11,
   "metadata": {},
   "outputs": [
    {
     "name": "stdout",
     "output_type": "stream",
     "text": [
      "74\n"
     ]
    }
   ],
   "source": [
    "#\n",
    "X = 201\n",
    "P = 127\n",
    "r = 10\n",
    "n = 3\n",
    "\n",
    "Yr = ModRedwithMont(X, P, r, n) \n",
    "\n",
    "print(Yr)"
   ]
  },
  {
   "cell_type": "code",
   "execution_count": 12,
   "metadata": {},
   "outputs": [
    {
     "name": "stdout",
     "output_type": "stream",
     "text": [
      "Example 4: Same values used with Pseudo-Mersenne with c=1 and w=7\n",
      "Expected output : 73\n"
     ]
    }
   ],
   "source": [
    "print(\"Example 4: Same values used with Pseudo-Mersenne with c=1 and w=7\")\n",
    "print(\"Expected output :\", 200%127)"
   ]
  },
  {
   "cell_type": "code",
   "execution_count": 13,
   "metadata": {},
   "outputs": [
    {
     "name": "stdout",
     "output_type": "stream",
     "text": [
      "73\n"
     ]
    }
   ],
   "source": [
    "X=200\n",
    "P=127 #element pseudo mersenne avec un c=1 et un w=7\n",
    "r=10\n",
    "n=3\n",
    "\n",
    "\n",
    "Yr = ModRedwithMont(X, P, r, n) \n",
    "\n",
    "print(Yr)"
   ]
  },
  {
   "cell_type": "code",
   "execution_count": 14,
   "metadata": {},
   "outputs": [
    {
     "name": "stdout",
     "output_type": "stream",
     "text": [
      "Example 5: Same values used with Pseudo-Mersenne with c=1 and w=7\n",
      "Expected output : 36\n"
     ]
    }
   ],
   "source": [
    "print(\"Example 5: Same values used with Pseudo-Mersenne with c=1 and w=7\")\n",
    "print(\"Expected output :\", 798%127)"
   ]
  },
  {
   "cell_type": "code",
   "execution_count": 15,
   "metadata": {},
   "outputs": [
    {
     "name": "stdout",
     "output_type": "stream",
     "text": [
      "36\n"
     ]
    }
   ],
   "source": [
    "X=798\n",
    "P=127 #element pseudo mersenne avec un c=1 et un w=7\n",
    "r=10\n",
    "n=3\n",
    "\n",
    "Yr = ModRedwithMont(X, P, r, n) \n",
    "\n",
    "\n",
    "print(Yr)"
   ]
  },
  {
   "cell_type": "code",
   "execution_count": null,
   "metadata": {},
   "outputs": [],
   "source": []
  }
 ],
 "metadata": {
  "kernelspec": {
   "display_name": "Python 3.7 (tensorflow1)",
   "language": "python",
   "name": "tensorflow1"
  },
  "language_info": {
   "codemirror_mode": {
    "name": "ipython",
    "version": 3
   },
   "file_extension": ".py",
   "mimetype": "text/x-python",
   "name": "python",
   "nbconvert_exporter": "python",
   "pygments_lexer": "ipython3",
   "version": "3.7.7"
  }
 },
 "nbformat": 4,
 "nbformat_minor": 4
}
